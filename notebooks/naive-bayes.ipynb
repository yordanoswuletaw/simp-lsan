{
 "cells": [
  {
   "cell_type": "code",
   "execution_count": null,
   "metadata": {
    "cell_id": "d7f3136a0ada4fda97c7330532b3a652",
    "deepnote_app_block_visible": true,
    "deepnote_cell_type": "code",
    "deepnote_to_be_reexecuted": false,
    "execution_context_id": "4e91586c-a8d3-4a97-8ad7-d77bb1ff3da3",
    "execution_millis": 1651,
    "execution_start": 1735279111122,
    "source_hash": "406f6ae0"
   },
   "outputs": [],
   "source": [
    "import json\n",
    "import numpy as np \n",
    "import pandas as pd \n",
    "import matplotlib.pyplot as plt \n",
    "import seaborn as snb\n",
    "\n",
    "from collections import defaultdict\n",
    "from sklearn.model_selection import train_test_split \n",
    "from sklearn.feature_selection import mutual_info_classif\n",
    "from sklearn.linear_model import LogisticRegression"
   ]
  },
  {
   "cell_type": "code",
   "execution_count": 2,
   "metadata": {
    "cell_id": "603d9604630d40d5a97a56e95042f241",
    "deepnote_app_block_visible": true,
    "deepnote_cell_type": "code",
    "deepnote_to_be_reexecuted": false,
    "execution_context_id": "ec1c6038-c5e1-4db6-9903-3f14cec68c2d",
    "execution_millis": 102,
    "execution_start": 1735279112822,
    "source_hash": "6fd11131"
   },
   "outputs": [
    {
     "name": "stdout",
     "output_type": "stream",
     "text": [
      "Index(['word_count', 'word', 'prefix', 'first_prefix', 'second_prefix',\n",
      "       'suffix', 'second_suffix', 'first_suffix', 'adjective_specificity'],\n",
      "      dtype='object')\n"
     ]
    },
    {
     "data": {
      "application/vnd.deepnote.dataframe.v3+json": {
       "column_count": 10,
       "columns": [
        {
         "dtype": "int64",
         "name": "word_count",
         "stats": {
          "histogram": [
           {
            "bin_end": 2.3,
            "bin_start": 2,
            "count": 2
           },
           {
            "bin_end": 2.6,
            "bin_start": 2.3,
            "count": 0
           },
           {
            "bin_end": 2.9,
            "bin_start": 2.6,
            "count": 0
           },
           {
            "bin_end": 3.2,
            "bin_start": 2.9,
            "count": 1
           },
           {
            "bin_end": 3.5,
            "bin_start": 3.2,
            "count": 0
           },
           {
            "bin_end": 3.8,
            "bin_start": 3.5,
            "count": 0
           },
           {
            "bin_end": 4.1,
            "bin_start": 3.8,
            "count": 1
           },
           {
            "bin_end": 4.4,
            "bin_start": 4.1,
            "count": 0
           },
           {
            "bin_end": 4.699999999999999,
            "bin_start": 4.4,
            "count": 0
           },
           {
            "bin_end": 5,
            "bin_start": 4.699999999999999,
            "count": 1
           }
          ],
          "max": "5",
          "min": "2",
          "nan_count": 0,
          "unique_count": 4
         }
        },
        {
         "dtype": "object",
         "name": "word",
         "stats": {
          "categories": [
           {
            "count": 1,
            "name": "በላ"
           },
           {
            "count": 1,
            "name": "በላች"
           },
           {
            "count": 3,
            "name": "3 others"
           }
          ],
          "nan_count": 0,
          "unique_count": 5
         }
        },
        {
         "dtype": "object",
         "name": "prefix",
         "stats": {
          "categories": [
           {
            "count": 2,
            "name": "በላ"
           },
           {
            "count": 1,
            "name": "ይበ"
           },
           {
            "count": 2,
            "name": "2 others"
           }
          ],
          "nan_count": 0,
          "unique_count": 4
         }
        },
        {
         "dtype": "object",
         "name": "first_prefix",
         "stats": {
          "categories": [
           {
            "count": 2,
            "name": "በ"
           },
           {
            "count": 1,
            "name": "ይ"
           },
           {
            "count": 2,
            "name": "2 others"
           }
          ],
          "nan_count": 0,
          "unique_count": 4
         }
        },
        {
         "dtype": "object",
         "name": "second_prefix",
         "stats": {
          "categories": [
           {
            "count": 3,
            "name": "ላ"
           },
           {
            "count": 2,
            "name": "በ"
           }
          ],
          "nan_count": 0,
          "unique_count": 2
         }
        },
        {
         "dtype": "object",
         "name": "suffix",
         "stats": {
          "categories": [
           {
            "count": 1,
            "name": "በላ"
           },
           {
            "count": 1,
            "name": "ላች"
           },
           {
            "count": 3,
            "name": "3 others"
           }
          ],
          "nan_count": 0,
          "unique_count": 5
         }
        },
        {
         "dtype": "object",
         "name": "second_suffix",
         "stats": {
          "categories": [
           {
            "count": 2,
            "name": "ላ"
           },
           {
            "count": 1,
            "name": "በ"
           },
           {
            "count": 2,
            "name": "2 others"
           }
          ],
          "nan_count": 0,
          "unique_count": 4
         }
        },
        {
         "dtype": "object",
         "name": "first_suffix",
         "stats": {
          "categories": [
           {
            "count": 2,
            "name": "ላ"
           },
           {
            "count": 2,
            "name": "ች"
           },
           {
            "count": 1,
            "name": "ል"
           }
          ],
          "nan_count": 0,
          "unique_count": 3
         }
        },
        {
         "dtype": "int64",
         "name": "adjective_specificity",
         "stats": {
          "histogram": [
           {
            "bin_end": 0.1,
            "bin_start": 0,
            "count": 2
           },
           {
            "bin_end": 0.2,
            "bin_start": 0.1,
            "count": 0
           },
           {
            "bin_end": 0.30000000000000004,
            "bin_start": 0.2,
            "count": 0
           },
           {
            "bin_end": 0.4,
            "bin_start": 0.30000000000000004,
            "count": 0
           },
           {
            "bin_end": 0.5,
            "bin_start": 0.4,
            "count": 0
           },
           {
            "bin_end": 0.6000000000000001,
            "bin_start": 0.5,
            "count": 0
           },
           {
            "bin_end": 0.7000000000000001,
            "bin_start": 0.6000000000000001,
            "count": 0
           },
           {
            "bin_end": 0.8,
            "bin_start": 0.7000000000000001,
            "count": 0
           },
           {
            "bin_end": 0.9,
            "bin_start": 0.8,
            "count": 0
           },
           {
            "bin_end": 1,
            "bin_start": 0.9,
            "count": 3
           }
          ],
          "max": "1",
          "min": "0",
          "nan_count": 0,
          "unique_count": 2
         }
        },
        {
         "dtype": "object",
         "name": "prsf",
         "stats": {
          "categories": [
           {
            "count": 1,
            "name": "በላበላ"
           },
           {
            "count": 1,
            "name": "በላላች"
           },
           {
            "count": 3,
            "name": "3 others"
           }
          ],
          "nan_count": 0,
          "unique_count": 5
         }
        },
        {
         "dtype": "int64",
         "name": "_deepnote_index_column"
        }
       ],
       "row_count": 5,
       "rows": [
        {
         "_deepnote_index_column": 0,
         "adjective_specificity": 1,
         "first_prefix": "በ",
         "first_suffix": "ላ",
         "prefix": "በላ",
         "prsf": "በላበላ",
         "second_prefix": "ላ",
         "second_suffix": "በ",
         "suffix": "በላ",
         "word": "በላ",
         "word_count": 2
        },
        {
         "_deepnote_index_column": 1,
         "adjective_specificity": 0,
         "first_prefix": "በ",
         "first_suffix": "ች",
         "prefix": "በላ",
         "prsf": "በላላች",
         "second_prefix": "ላ",
         "second_suffix": "ላ",
         "suffix": "ላች",
         "word": "በላች",
         "word_count": 3
        },
        {
         "_deepnote_index_column": 2,
         "adjective_specificity": 1,
         "first_prefix": "ይ",
         "first_suffix": "ል",
         "prefix": "ይበ",
         "prsf": "ይበላል",
         "second_prefix": "በ",
         "second_suffix": "ላ",
         "suffix": "ላል",
         "word": "ይበላል",
         "word_count": 4
        },
        {
         "_deepnote_index_column": 3,
         "adjective_specificity": 0,
         "first_prefix": "ት",
         "first_suffix": "ች",
         "prefix": "ትበ",
         "prsf": "ትበለች",
         "second_prefix": "በ",
         "second_suffix": "ለ",
         "suffix": "ለች",
         "word": "ትበላለች",
         "word_count": 5
        },
        {
         "_deepnote_index_column": 4,
         "adjective_specificity": 1,
         "first_prefix": "ብ",
         "first_suffix": "ላ",
         "prefix": "ብላ",
         "prsf": "ብላብላ",
         "second_prefix": "ላ",
         "second_suffix": "ብ",
         "suffix": "ብላ",
         "word": "ብላ",
         "word_count": 2
        }
       ]
      },
      "text/html": [
       "<div>\n",
       "<style scoped>\n",
       "    .dataframe tbody tr th:only-of-type {\n",
       "        vertical-align: middle;\n",
       "    }\n",
       "\n",
       "    .dataframe tbody tr th {\n",
       "        vertical-align: top;\n",
       "    }\n",
       "\n",
       "    .dataframe thead th {\n",
       "        text-align: right;\n",
       "    }\n",
       "</style>\n",
       "<table border=\"1\" class=\"dataframe\">\n",
       "  <thead>\n",
       "    <tr style=\"text-align: right;\">\n",
       "      <th></th>\n",
       "      <th>word_count</th>\n",
       "      <th>word</th>\n",
       "      <th>prefix</th>\n",
       "      <th>first_prefix</th>\n",
       "      <th>second_prefix</th>\n",
       "      <th>suffix</th>\n",
       "      <th>second_suffix</th>\n",
       "      <th>first_suffix</th>\n",
       "      <th>adjective_specificity</th>\n",
       "      <th>prsf</th>\n",
       "    </tr>\n",
       "  </thead>\n",
       "  <tbody>\n",
       "    <tr>\n",
       "      <th>0</th>\n",
       "      <td>2</td>\n",
       "      <td>በላ</td>\n",
       "      <td>በላ</td>\n",
       "      <td>በ</td>\n",
       "      <td>ላ</td>\n",
       "      <td>በላ</td>\n",
       "      <td>በ</td>\n",
       "      <td>ላ</td>\n",
       "      <td>1</td>\n",
       "      <td>በላበላ</td>\n",
       "    </tr>\n",
       "    <tr>\n",
       "      <th>1</th>\n",
       "      <td>3</td>\n",
       "      <td>በላች</td>\n",
       "      <td>በላ</td>\n",
       "      <td>በ</td>\n",
       "      <td>ላ</td>\n",
       "      <td>ላች</td>\n",
       "      <td>ላ</td>\n",
       "      <td>ች</td>\n",
       "      <td>0</td>\n",
       "      <td>በላላች</td>\n",
       "    </tr>\n",
       "    <tr>\n",
       "      <th>2</th>\n",
       "      <td>4</td>\n",
       "      <td>ይበላል</td>\n",
       "      <td>ይበ</td>\n",
       "      <td>ይ</td>\n",
       "      <td>በ</td>\n",
       "      <td>ላል</td>\n",
       "      <td>ላ</td>\n",
       "      <td>ል</td>\n",
       "      <td>1</td>\n",
       "      <td>ይበላል</td>\n",
       "    </tr>\n",
       "    <tr>\n",
       "      <th>3</th>\n",
       "      <td>5</td>\n",
       "      <td>ትበላለች</td>\n",
       "      <td>ትበ</td>\n",
       "      <td>ት</td>\n",
       "      <td>በ</td>\n",
       "      <td>ለች</td>\n",
       "      <td>ለ</td>\n",
       "      <td>ች</td>\n",
       "      <td>0</td>\n",
       "      <td>ትበለች</td>\n",
       "    </tr>\n",
       "    <tr>\n",
       "      <th>4</th>\n",
       "      <td>2</td>\n",
       "      <td>ብላ</td>\n",
       "      <td>ብላ</td>\n",
       "      <td>ብ</td>\n",
       "      <td>ላ</td>\n",
       "      <td>ብላ</td>\n",
       "      <td>ብ</td>\n",
       "      <td>ላ</td>\n",
       "      <td>1</td>\n",
       "      <td>ብላብላ</td>\n",
       "    </tr>\n",
       "  </tbody>\n",
       "</table>\n",
       "</div>"
      ],
      "text/plain": [
       "   word_count   word prefix first_prefix second_prefix suffix second_suffix  \\\n",
       "0           2     በላ     በላ            በ             ላ     በላ             በ   \n",
       "1           3    በላች     በላ            በ             ላ     ላች             ላ   \n",
       "2           4   ይበላል     ይበ            ይ             በ     ላል             ላ   \n",
       "3           5  ትበላለች     ትበ            ት             በ     ለች             ለ   \n",
       "4           2     ብላ     ብላ            ብ             ላ     ብላ             ብ   \n",
       "\n",
       "  first_suffix  adjective_specificity  prsf  \n",
       "0            ላ                      1  በላበላ  \n",
       "1            ች                      0  በላላች  \n",
       "2            ል                      1  ይበላል  \n",
       "3            ች                      0  ትበለች  \n",
       "4            ላ                      1  ብላብላ  "
      ]
     },
     "execution_count": 2,
     "metadata": {},
     "output_type": "execute_result"
    }
   ],
   "source": [
    "df = pd.read_csv(\"../data/datasets.csv\")\n",
    "columns = df.columns \n",
    "print(columns)\n",
    "df['prsf'] = df['prefix'] + df['suffix']\n",
    "df.head()"
   ]
  },
  {
   "cell_type": "code",
   "execution_count": 17,
   "metadata": {
    "cell_id": "7f4cc88774e749b19f85d57ed2f11fdc",
    "deepnote_app_block_visible": true,
    "deepnote_cell_type": "code",
    "execution_context_id": "4e91586c-a8d3-4a97-8ad7-d77bb1ff3da3",
    "execution_millis": 2,
    "execution_start": 1735279200990,
    "source_hash": "99e45b6d"
   },
   "outputs": [
    {
     "name": "stdout",
     "output_type": "stream",
     "text": [
      "Accuracy:  0.6326530612244898\n"
     ]
    }
   ],
   "source": [
    "class NaiveBayesClassifer:\n",
    "    def __init__(self, words, labels):\n",
    "        self.letter_frequency = defaultdict(float)\n",
    "        self.nm = 0\n",
    "        self.nf = 0\n",
    "\n",
    "        for word, label in zip(words, labels):\n",
    "            for letter in word:\n",
    "                self.letter_frequency[(letter, label)] += 1.0\n",
    "                self.nm += 1 if label == 1 else 0\n",
    "                self.nf += 1 if label == 0 else 0\n",
    "        \n",
    "        self.v = len(set([letter for letter,label in self.letter_frequency.keys() if self.letter_frequency[(letter,label)] > 0]))\n",
    "        self.f_class, self.m_class = labels.value_counts()\n",
    "        self.logpior = np.log(self.m_class) - np.log(self.f_class)\n",
    "        self.loglikelihood = defaultdict(float)\n",
    "    \n",
    "    def fit(self, X, y):\n",
    "        for word in X:\n",
    "            loglikelihood = 0\n",
    "            for letter in word:\n",
    "                freq_m = self.letter_frequency[(letter, 1)] \n",
    "                freq_f = self.letter_frequency[(letter, 0)]\n",
    "\n",
    "                pw_m = (freq_m + 1) / (self.nm + self.v)\n",
    "                pw_f = (freq_f + 1) / (self.nf + self.v)\n",
    "\n",
    "                loglikelihood += np.log(pw_m) - np.log(pw_f)\n",
    "            \n",
    "            self.loglikelihood[word] = loglikelihood\n",
    "    \n",
    "    def predict(self, X):\n",
    "        y_pred = []\n",
    "        for word in X:\n",
    "            pred = self.logpior + self.loglikelihood[word]\n",
    "            y_pred.append(1 if pred > 0 else 0)\n",
    "        \n",
    "        return y_pred  \n",
    "\n",
    "X, y = df['prsf'], df['adjective_specificity']\n",
    "X_train, X_test, y_train, y_test = train_test_split(X, y, test_size=0.2, random_state=0)      \n",
    "nbc = NaiveBayesClassifer(X_train, y_train)\n",
    "nbc.fit(X_train, y_train)\n",
    "y_pred = nbc.predict(X_test)\n",
    "print('Accuracy: ', np.mean(np.array(y_pred) == y_test))"
   ]
  },
  {
   "cell_type": "code",
   "execution_count": 4,
   "metadata": {
    "cell_id": "1c587d80b5e14067a5f99a3c84d4a0e3",
    "deepnote_app_block_visible": true,
    "deepnote_cell_type": "code",
    "execution_context_id": "4e91586c-a8d3-4a97-8ad7-d77bb1ff3da3",
    "execution_millis": 0,
    "execution_start": 1735279113030,
    "source_hash": "b623e53d"
   },
   "outputs": [],
   "source": []
  },
  {
   "cell_type": "markdown",
   "metadata": {
    "created_in_deepnote_cell": true,
    "deepnote_cell_type": "markdown"
   },
   "source": [
    "<a style='text-decoration:none;line-height:16px;display:flex;color:#5B5B62;padding:10px;justify-content:end;' href='https://deepnote.com?utm_source=created-in-deepnote-cell&projectId=ff44dff4-4ba1-40f3-adfa-172f20dbf513' target=\"_blank\">\n",
    "<img alt='Created in deepnote.com' style='display:inline;max-height:16px;margin:0px;margin-right:7.5px;' src='data:image/svg+xml;base64,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' > </img>\n",
    "Created in <span style='font-weight:600;margin-left:4px;'>Deepnote</span></a>"
   ]
  }
 ],
 "metadata": {
  "deepnote_app_layout": "powerful-article",
  "deepnote_app_reactivity_enabled": true,
  "deepnote_notebook_id": "6eca845c7b344291be2e6550ff3731e8",
  "kernelspec": {
   "display_name": "base",
   "language": "python",
   "name": "python3"
  },
  "language_info": {
   "codemirror_mode": {
    "name": "ipython",
    "version": 3
   },
   "file_extension": ".py",
   "mimetype": "text/x-python",
   "name": "python",
   "nbconvert_exporter": "python",
   "pygments_lexer": "ipython3",
   "version": "3.12.4"
  }
 },
 "nbformat": 4,
 "nbformat_minor": 0
}
